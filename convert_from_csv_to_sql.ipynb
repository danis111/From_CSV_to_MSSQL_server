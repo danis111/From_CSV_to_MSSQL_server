{
 "cells": [
  {
   "cell_type": "code",
   "execution_count": 2,
   "id": "288b00ba",
   "metadata": {},
   "outputs": [
    {
     "name": "stdout",
     "output_type": "stream",
     "text": [
      "16291 rows inserted to the sold table\n"
     ]
    }
   ],
   "source": [
    "import numpy as np\n",
    "import pandas as pd\n",
    "import pyodbc\n",
    "file_path='C:/Users/Hp/Desktop/From_CSV_to_MSSQL_server/sales.csv'\n",
    "df=pd.read_csv(file_path)\n",
    "df.columns=[x.lower().replace(\"?\",\"_\").replace(\"#\",\"\").replace(\"*\",\"\") for x in df.columns]\n",
    "df=df.dropna(how='any')\n",
    "df[\"year\"] = df[\"year\"].astype(int)\n",
    "\n",
    "servername='database-redyellow.cloc5pbzda4k.us-east-2.rds.amazonaws.com'\n",
    "database='BikeStores'\n",
    "username='admin'\n",
    "password='Melo.539933'\n",
    "conn = pyodbc.connect('DRIVER={SQL Server};SERVER='+servername+';DATABASE='+database+';UID='+username+';PWD='+ password)\n",
    "cursor = conn.cursor()\n",
    "# this is all it takes to connect to our ms sql database I am using AWS.\n",
    "cursor.execute(\"drop table if exists sold\")\n",
    "cursor.execute(\"create table sold (%s)\" % (line))\n",
    "conn.commit()\n",
    "\n",
    "\n",
    "convert={\n",
    "       \"int64\":\"int\",\n",
    "       \"object\":\"nvarchar(250)\",\n",
    "       \"float64\":\"float\",\n",
    "       \"int32\":\"int\"\n",
    "}\n",
    "\n",
    "line = \", \".join(\"{} {}\".format(x, y) for (x, y) in zip(df.columns, df.dtypes.replace(convert)))\n",
    "names='rank,name,platform,year,genre,publisher,na_sales,eu_sales,jp_sales,other_sales,global_sales'\n",
    "values='?,?,?,?,?,?,?,?,?,?,?'\n",
    "cursor.fast_executemany = True\n",
    "cursor.executemany(\"insert into sold (%s) values (%s)\" % (names,values),df.values.tolist())\n",
    "print('{} rows inserted to the sold table'.format(len(df)))\n",
    "cursor.commit()\n",
    "conn.close()\n",
    "\n",
    "# it's really so fast that we just inserted 16291 rows within just 10 secs, we cant do it with just this codes belove\n",
    "#----------------------------------------------------------------------------------------------------------\n",
    "# for row in x.itertuples():\n",
    "#       cursor.execute(\"insert into sales (rank,name,platform,year,genre,pu_lisher,na_sales,eu_sales,\\\n",
    "#                     jp_sales,other_sales,glo_al_sales) values(?,?,?,?,?,?,?,?,?,?,?)\",row.rank,row.name,\\\n",
    "#                     row.platform,row.year,row.genre,row.pu_lisher,row.na_sales,row.eu_sales,row.jp_sales,\\\n",
    "#                     row.other_sales,row.glo_al_sales)\n",
    "# conn.commit()\n",
    "# cursor.close()\n",
    "#----------------------------------------------------- its gonna take a lot time to insert them into db with this code structure"
   ]
  },
  {
   "cell_type": "code",
   "execution_count": null,
   "id": "8e4df307",
   "metadata": {},
   "outputs": [],
   "source": []
  }
 ],
 "metadata": {
  "kernelspec": {
   "display_name": "Python 3 (ipykernel)",
   "language": "python",
   "name": "python3"
  },
  "language_info": {
   "codemirror_mode": {
    "name": "ipython",
    "version": 3
   },
   "file_extension": ".py",
   "mimetype": "text/x-python",
   "name": "python",
   "nbconvert_exporter": "python",
   "pygments_lexer": "ipython3",
   "version": "3.8.0"
  }
 },
 "nbformat": 4,
 "nbformat_minor": 5
}
