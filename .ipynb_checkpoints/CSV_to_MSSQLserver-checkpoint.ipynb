{
 "cells": [
  {
   "cell_type": "markdown",
   "id": "1adbe637",
   "metadata": {},
   "source": [
    " # CSV TO MS SQL SERVER"
   ]
  },
  {
   "cell_type": "markdown",
   "id": "9bee07a0",
   "metadata": {},
   "source": [
    "     # pyodbc is an open source Python module that makes accessing ODBC databases simple. It implements the DB API 2.0       specification but is packed with even more Pythonic convenience. I am using MS SQL server, to install pyodbc just go to cmd      and type 'pip install pyodbc' then it's ready to be used.\n",
    "     https://docs.microsoft.com/en-us/sql/connect/python/pyodbc/python-sql-driver-pyodbc?view=sql-server-ver15      "
   ]
  },
  {
   "cell_type": "code",
   "execution_count": 138,
   "id": "e80ac35d",
   "metadata": {},
   "outputs": [],
   "source": [
    "import numpy as np\n",
    "import pandas as pd\n",
    "import pyodbc      "
   ]
  },
  {
   "cell_type": "code",
   "execution_count": 139,
   "id": "ea21585e",
   "metadata": {},
   "outputs": [],
   "source": [
    "file_path='C:/Users/Hp/Desktop/From_CSV_to_MSSQL_server/sales.csv'\n",
    "df=pd.read_csv(file_path) # to look at it what kinda data we have in it\n"
   ]
  },
  {
   "cell_type": "code",
   "execution_count": 140,
   "id": "e4b78080",
   "metadata": {},
   "outputs": [
    {
     "data": {
      "text/html": [
       "<div>\n",
       "<style scoped>\n",
       "    .dataframe tbody tr th:only-of-type {\n",
       "        vertical-align: middle;\n",
       "    }\n",
       "\n",
       "    .dataframe tbody tr th {\n",
       "        vertical-align: top;\n",
       "    }\n",
       "\n",
       "    .dataframe thead th {\n",
       "        text-align: right;\n",
       "    }\n",
       "</style>\n",
       "<table border=\"1\" class=\"dataframe\">\n",
       "  <thead>\n",
       "    <tr style=\"text-align: right;\">\n",
       "      <th></th>\n",
       "      <th>Rank</th>\n",
       "      <th>Name</th>\n",
       "      <th>Platform</th>\n",
       "      <th>Year</th>\n",
       "      <th>Genre</th>\n",
       "      <th>Publisher</th>\n",
       "      <th>NA_Sales</th>\n",
       "      <th>EU_Sales</th>\n",
       "      <th>JP_Sales</th>\n",
       "      <th>Other_Sales</th>\n",
       "      <th>Global_Sales</th>\n",
       "    </tr>\n",
       "  </thead>\n",
       "  <tbody>\n",
       "    <tr>\n",
       "      <th>16593</th>\n",
       "      <td>16596</td>\n",
       "      <td>Woody Woodpecker in Crazy Castle 5</td>\n",
       "      <td>GBA</td>\n",
       "      <td>2002.0</td>\n",
       "      <td>Platform</td>\n",
       "      <td>Kemco</td>\n",
       "      <td>0.01</td>\n",
       "      <td>0.00</td>\n",
       "      <td>0.0</td>\n",
       "      <td>0.0</td>\n",
       "      <td>0.01</td>\n",
       "    </tr>\n",
       "    <tr>\n",
       "      <th>16594</th>\n",
       "      <td>16597</td>\n",
       "      <td>Men in Black II: Alien Escape</td>\n",
       "      <td>GC</td>\n",
       "      <td>2003.0</td>\n",
       "      <td>Shooter</td>\n",
       "      <td>Infogrames</td>\n",
       "      <td>0.01</td>\n",
       "      <td>0.00</td>\n",
       "      <td>0.0</td>\n",
       "      <td>0.0</td>\n",
       "      <td>0.01</td>\n",
       "    </tr>\n",
       "    <tr>\n",
       "      <th>16595</th>\n",
       "      <td>16598</td>\n",
       "      <td>SCORE International Baja 1000: The Official Game</td>\n",
       "      <td>PS2</td>\n",
       "      <td>2008.0</td>\n",
       "      <td>Racing</td>\n",
       "      <td>Activision</td>\n",
       "      <td>0.00</td>\n",
       "      <td>0.00</td>\n",
       "      <td>0.0</td>\n",
       "      <td>0.0</td>\n",
       "      <td>0.01</td>\n",
       "    </tr>\n",
       "    <tr>\n",
       "      <th>16596</th>\n",
       "      <td>16599</td>\n",
       "      <td>Know How 2</td>\n",
       "      <td>DS</td>\n",
       "      <td>2010.0</td>\n",
       "      <td>Puzzle</td>\n",
       "      <td>7G//AMES</td>\n",
       "      <td>0.00</td>\n",
       "      <td>0.01</td>\n",
       "      <td>0.0</td>\n",
       "      <td>0.0</td>\n",
       "      <td>0.01</td>\n",
       "    </tr>\n",
       "    <tr>\n",
       "      <th>16597</th>\n",
       "      <td>16600</td>\n",
       "      <td>Spirits &amp; Spells</td>\n",
       "      <td>GBA</td>\n",
       "      <td>2003.0</td>\n",
       "      <td>Platform</td>\n",
       "      <td>Wanadoo</td>\n",
       "      <td>0.01</td>\n",
       "      <td>0.00</td>\n",
       "      <td>0.0</td>\n",
       "      <td>0.0</td>\n",
       "      <td>0.01</td>\n",
       "    </tr>\n",
       "  </tbody>\n",
       "</table>\n",
       "</div>"
      ],
      "text/plain": [
       "        Rank                                              Name Platform  \\\n",
       "16593  16596                Woody Woodpecker in Crazy Castle 5      GBA   \n",
       "16594  16597                     Men in Black II: Alien Escape       GC   \n",
       "16595  16598  SCORE International Baja 1000: The Official Game      PS2   \n",
       "16596  16599                                        Know How 2       DS   \n",
       "16597  16600                                  Spirits & Spells      GBA   \n",
       "\n",
       "         Year     Genre   Publisher  NA_Sales  EU_Sales  JP_Sales  \\\n",
       "16593  2002.0  Platform       Kemco      0.01      0.00       0.0   \n",
       "16594  2003.0   Shooter  Infogrames      0.01      0.00       0.0   \n",
       "16595  2008.0    Racing  Activision      0.00      0.00       0.0   \n",
       "16596  2010.0    Puzzle    7G//AMES      0.00      0.01       0.0   \n",
       "16597  2003.0  Platform     Wanadoo      0.01      0.00       0.0   \n",
       "\n",
       "       Other_Sales  Global_Sales  \n",
       "16593          0.0          0.01  \n",
       "16594          0.0          0.01  \n",
       "16595          0.0          0.01  \n",
       "16596          0.0          0.01  \n",
       "16597          0.0          0.01  "
      ]
     },
     "execution_count": 140,
     "metadata": {},
     "output_type": "execute_result"
    }
   ],
   "source": [
    "df.tail() #this will let you get the top 5 rows from the Dataframe"
   ]
  },
  {
   "cell_type": "code",
   "execution_count": 141,
   "id": "453ba5b0",
   "metadata": {},
   "outputs": [],
   "source": [
    "df.columns=[x.lower().replace(\"?\",\"_\").replace(\"#\",\"\").replace(\"*\",\"\")\\\n",
    "            for x in df.columns]\n",
    "# I am going to change the columns' names to lower case and get rid of other things like ? # *"
   ]
  },
  {
   "cell_type": "code",
   "execution_count": 142,
   "id": "37ba88cf",
   "metadata": {},
   "outputs": [
    {
     "data": {
      "text/plain": [
       "True"
      ]
     },
     "execution_count": 142,
     "metadata": {},
     "output_type": "execute_result"
    }
   ],
   "source": [
    "df.isnull().values.any() #to check to see if there are any null or NaN data types.\n"
   ]
  },
  {
   "cell_type": "code",
   "execution_count": 143,
   "id": "5e85b6ea",
   "metadata": {},
   "outputs": [
    {
     "data": {
      "text/plain": [
       "rank              0\n",
       "name              0\n",
       "platform          0\n",
       "year            271\n",
       "genre             0\n",
       "publisher        58\n",
       "na_sales          0\n",
       "eu_sales          0\n",
       "jp_sales          0\n",
       "other_sales       0\n",
       "global_sales      0\n",
       "dtype: int64"
      ]
     },
     "execution_count": 143,
     "metadata": {},
     "output_type": "execute_result"
    }
   ],
   "source": [
    "df.isnull().sum() # this is a control process to check to see if there is any missing value as null or NaN"
   ]
  },
  {
   "cell_type": "code",
   "execution_count": 144,
   "id": "d86f0f0c",
   "metadata": {},
   "outputs": [
    {
     "data": {
      "text/plain": [
       "329"
      ]
     },
     "execution_count": 144,
     "metadata": {},
     "output_type": "execute_result"
    }
   ],
   "source": [
    "df.isnull().sum().sum() #this is showing you total number of missing value, if you keep going like that and not \n",
    "#delete and get rid of any missing value you get an error while inserting any value to sql server"
   ]
  },
  {
   "cell_type": "code",
   "execution_count": 147,
   "id": "6d659f66",
   "metadata": {},
   "outputs": [],
   "source": [
    "#lets get rid of all of them \n",
    "df=df.dropna(how='any') # mission accomplished"
   ]
  },
  {
   "cell_type": "code",
   "execution_count": 148,
   "id": "80b39530",
   "metadata": {},
   "outputs": [
    {
     "data": {
      "text/plain": [
       "rank              int64\n",
       "name             object\n",
       "platform         object\n",
       "year            float64\n",
       "genre            object\n",
       "publisher        object\n",
       "na_sales        float64\n",
       "eu_sales        float64\n",
       "jp_sales        float64\n",
       "other_sales     float64\n",
       "global_sales    float64\n",
       "dtype: object"
      ]
     },
     "execution_count": 148,
     "metadata": {},
     "output_type": "execute_result"
    }
   ],
   "source": [
    "df.dtypes # checked to see what kinda datA types I have in the DataFrame cause; I need to convert them into right data type"
   ]
  },
  {
   "cell_type": "code",
   "execution_count": 149,
   "id": "d9d11fa4",
   "metadata": {},
   "outputs": [],
   "source": [
    "df[\"year\"] = df[\"year\"].astype(int) # I converted the data type of df[\"year\"] from float to int"
   ]
  },
  {
   "cell_type": "code",
   "execution_count": null,
   "id": "1a663cc8",
   "metadata": {},
   "outputs": [],
   "source": [
    "#as I can see our data is ready to be inserted in to MS sql server before doing it we need to make a connection from python to\n",
    "#ms sql server so lets jump into it"
   ]
  },
  {
   "cell_type": "code",
   "execution_count": 150,
   "id": "fd44a9b2",
   "metadata": {},
   "outputs": [
    {
     "data": {
      "text/html": [
       "<div>\n",
       "<style scoped>\n",
       "    .dataframe tbody tr th:only-of-type {\n",
       "        vertical-align: middle;\n",
       "    }\n",
       "\n",
       "    .dataframe tbody tr th {\n",
       "        vertical-align: top;\n",
       "    }\n",
       "\n",
       "    .dataframe thead th {\n",
       "        text-align: right;\n",
       "    }\n",
       "</style>\n",
       "<table border=\"1\" class=\"dataframe\">\n",
       "  <thead>\n",
       "    <tr style=\"text-align: right;\">\n",
       "      <th></th>\n",
       "      <th>rank</th>\n",
       "      <th>name</th>\n",
       "      <th>platform</th>\n",
       "      <th>year</th>\n",
       "      <th>genre</th>\n",
       "      <th>publisher</th>\n",
       "      <th>na_sales</th>\n",
       "      <th>eu_sales</th>\n",
       "      <th>jp_sales</th>\n",
       "      <th>other_sales</th>\n",
       "      <th>global_sales</th>\n",
       "    </tr>\n",
       "  </thead>\n",
       "  <tbody>\n",
       "  </tbody>\n",
       "</table>\n",
       "</div>"
      ],
      "text/plain": [
       "Empty DataFrame\n",
       "Columns: [rank, name, platform, year, genre, publisher, na_sales, eu_sales, jp_sales, other_sales, global_sales]\n",
       "Index: []"
      ]
     },
     "execution_count": 150,
     "metadata": {},
     "output_type": "execute_result"
    }
   ],
   "source": [
    "check_for_nan = df[df.isna().any(axis=1)]\n",
    "check_for_nan  # yuo can check like this too, we dont have any missing or null or NaN value"
   ]
  },
  {
   "cell_type": "code",
   "execution_count": 130,
   "id": "d8eda252",
   "metadata": {},
   "outputs": [
    {
     "name": "stdout",
     "output_type": "stream",
     "text": [
      "connected!!\n"
     ]
    }
   ],
   "source": [
    "servername='database-redyellow.cloc5pbzda4k.us-east-2.rds.amazonaws.com'\n",
    "database='BikeStores'\n",
    "username='admin'\n",
    "password='Melo.539933'\n",
    "conn = pyodbc.connect('DRIVER={SQL Server};SERVER='+servername+';DATABASE='+database+';UID='+username+';PWD='+ password)\n",
    "cursor = conn.cursor()\n",
    "print(\"connected!!\")  # this is all it takes to connect to our ms sql database I am using AWS."
   ]
  },
  {
   "cell_type": "code",
   "execution_count": 131,
   "id": "c80c1f10",
   "metadata": {},
   "outputs": [
    {
     "name": "stdout",
     "output_type": "stream",
     "text": [
      "rank,name,platform,year,genre,publisher,na_sales,eu_sales,jp_sales,other_sales,global_sales,"
     ]
    }
   ],
   "source": [
    "for x in df.columns:\n",
    "    print(x,end=\",\") #you can fetch all column names from here easily\n",
    "    \n"
   ]
  },
  {
   "cell_type": "code",
   "execution_count": 106,
   "id": "1288af83",
   "metadata": {},
   "outputs": [
    {
     "name": "stdout",
     "output_type": "stream",
     "text": [
      "?,?,?,?,?,?,?,?,?,?,?,"
     ]
    }
   ],
   "source": [
    "for x in range(len(df.columns)):\n",
    "    print(\"?\",end=\",\") \n",
    "\n",
    "#to see how many column I will add into db  I will call these 11 question marks as 'values'   \n",
    "    "
   ]
  },
  {
   "cell_type": "code",
   "execution_count": 129,
   "id": "84f83b2e",
   "metadata": {},
   "outputs": [],
   "source": [
    "cursor.execute(\"drop table if exists sold\")\n",
    "conn.commit() #to chack to see if there is a table named 'sold' in db"
   ]
  },
  {
   "cell_type": "code",
   "execution_count": 132,
   "id": "0dba3864",
   "metadata": {},
   "outputs": [],
   "source": [
    "convert={\n",
    "       \"int64\":\"int\",\n",
    "       \"object\":\"nvarchar(250)\",\n",
    "       \"float64\":\"float\",\n",
    "       \"int32\":\"int\"\n",
    "}"
   ]
  },
  {
   "cell_type": "code",
   "execution_count": 133,
   "id": "da684f3c",
   "metadata": {},
   "outputs": [
    {
     "data": {
      "text/plain": [
       "'rank int, name nvarchar(250), platform nvarchar(250), year int, genre nvarchar(250), publisher nvarchar(250), na_sales float, eu_sales float, jp_sales float, other_sales float, global_sales float'"
      ]
     },
     "execution_count": 133,
     "metadata": {},
     "output_type": "execute_result"
    }
   ],
   "source": [
    "line = \", \".join(\"{} {}\".format(x, y) for (x, y) in zip(df.columns, df.dtypes.replace(convert)))\n",
    "line #this is the columns of the table with data types that ı want to create in my db "
   ]
  },
  {
   "cell_type": "code",
   "execution_count": 134,
   "id": "2934c3c5",
   "metadata": {},
   "outputs": [],
   "source": [
    "\n",
    "#so we can create a table named 'sold'\n",
    "cursor.execute(\"create table sold (%s)\" % (line))\n",
    "conn.commit()\n"
   ]
  },
  {
   "cell_type": "code",
   "execution_count": 136,
   "id": "4ca6ba72",
   "metadata": {},
   "outputs": [
    {
     "name": "stdout",
     "output_type": "stream",
     "text": [
      "16291 rows inserted to the sold table\n"
     ]
    }
   ],
   "source": [
    "names='rank,name,platform,year,genre,publisher,na_sales,eu_sales,jp_sales,other_sales,global_sales'\n",
    "values='?,?,?,?,?,?,?,?,?,?,?'\n",
    "cursor.fast_executemany = True\n",
    "cursor.executemany(\"insert into sold (%s) values (%s)\" % (names,values),df.values.tolist())\n",
    "print('{} rows inserted to the sold table'.format(len(df)))\n",
    "cursor.commit()\n",
    "conn.close()\n",
    "\n",
    "# it's really so fast that we just inserted 16291 rows within just 10 secs, we cant do it with just this codes belove\n",
    "#----------------------------------------------------------------------------------------------------------\n",
    "# for row in x.itertuples():\n",
    "#       cursor.execute(\"insert into sales (rank,name,platform,year,genre,pu_lisher,na_sales,eu_sales,\\\n",
    "#                     jp_sales,other_sales,glo_al_sales) values(?,?,?,?,?,?,?,?,?,?,?)\",row.rank,row.name,\\\n",
    "#                     row.platform,row.year,row.genre,row.pu_lisher,row.na_sales,row.eu_sales,row.jp_sales,\\\n",
    "#                     row.other_sales,row.glo_al_sales)\n",
    "# conn.commit()\n",
    "# cursor.close()\n",
    "#----------------------------------------------------- its gonna take a lot time to insert them into db with this code structure"
   ]
  },
  {
   "cell_type": "code",
   "execution_count": 123,
   "id": "33cd29ac",
   "metadata": {},
   "outputs": [],
   "source": [
    "#you can easily get all data from sql using this simple code structure belove\n",
    "# we need to make a connection again because we attempted to close the connection with what we did above( cursor.close())"
   ]
  },
  {
   "cell_type": "code",
   "execution_count": 115,
   "id": "fbbbae27",
   "metadata": {},
   "outputs": [
    {
     "name": "stdout",
     "output_type": "stream",
     "text": [
      "connected!!\n"
     ]
    }
   ],
   "source": [
    "#lets remake a connection\n",
    "servername='database-redyellow.cloc5pbzda4k.us-east-2.rds.amazonaws.com'\n",
    "database='BikeStores'\n",
    "username='admin'\n",
    "password='Melo.539933'\n",
    "conn = pyodbc.connect('DRIVER={SQL Server};SERVER='+servername+';DATABASE='+database+';UID='+username+';PWD='+ password)\n",
    "cursor = conn.cursor()\n",
    "print(\"connected!!\")"
   ]
  },
  {
   "cell_type": "code",
   "execution_count": 116,
   "id": "b115cc2d",
   "metadata": {},
   "outputs": [],
   "source": [
    "#we can fetch all data again from db typing just one code row\n",
    "df1=pd.read_sql_query('SELECT * FROM sold',conn) "
   ]
  },
  {
   "cell_type": "code",
   "execution_count": 121,
   "id": "711e7143",
   "metadata": {},
   "outputs": [],
   "source": [
    "#then we converted the data that we fetched from db from DataFrame to CSV\n",
    "df1.to_csv('C:/Users/Hp/Desktop/From_CSV_to_MSSQL_server/converted_from_df_to_CSV.csv')"
   ]
  },
  {
   "cell_type": "code",
   "execution_count": 122,
   "id": "a54af07c",
   "metadata": {},
   "outputs": [],
   "source": [
    "#to convert it to excel you need install openpyxl typing 'pip install openpyxl' in cmd, if you have it skip it \n",
    "df1.to_excel(\"C:/Users/Hp/Desktop/From_CSV_to_MSSQL_server/converted_from_df_to_excel.xlsx\")\n"
   ]
  },
  {
   "cell_type": "code",
   "execution_count": null,
   "id": "16f9afd2",
   "metadata": {},
   "outputs": [],
   "source": []
  }
 ],
 "metadata": {
  "kernelspec": {
   "display_name": "Python 3 (ipykernel)",
   "language": "python",
   "name": "python3"
  },
  "language_info": {
   "codemirror_mode": {
    "name": "ipython",
    "version": 3
   },
   "file_extension": ".py",
   "mimetype": "text/x-python",
   "name": "python",
   "nbconvert_exporter": "python",
   "pygments_lexer": "ipython3",
   "version": "3.8.0"
  }
 },
 "nbformat": 4,
 "nbformat_minor": 5
}
